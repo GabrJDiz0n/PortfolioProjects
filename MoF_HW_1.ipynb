{
  "nbformat": 4,
  "nbformat_minor": 0,
  "metadata": {
    "colab": {
      "provenance": [],
      "authorship_tag": "ABX9TyMXMsj/GZr+VN9kUQvrckv+",
      "include_colab_link": true
    },
    "kernelspec": {
      "name": "python3",
      "display_name": "Python 3"
    },
    "language_info": {
      "name": "python"
    }
  },
  "cells": [
    {
      "cell_type": "markdown",
      "metadata": {
        "id": "view-in-github",
        "colab_type": "text"
      },
      "source": [
        "<a href=\"https://colab.research.google.com/github/GabrJDiz0n/PortfolioProjects/blob/main/MoF_HW_1.ipynb\" target=\"_parent\"><img src=\"https://colab.research.google.com/assets/colab-badge.svg\" alt=\"Open In Colab\"/></a>"
      ]
    },
    {
      "cell_type": "code",
      "source": [
        "# Ex 3, Q2 & Q3\n",
        "import math\n",
        "\n",
        "summation = 0\n",
        "summation2 = 0\n",
        "summation3 = 0\n",
        "for i in range(1, 10):\n",
        "  term = 0.04 * 0.5 * (i / 2) * math.exp(-0.044 * (i / 2))\n",
        "  summation += term\n",
        "  term2 = 0.04 * 0.5 * math.exp(-0.044 * (i / 2))\n",
        "  summation2 += term2\n",
        "  term3 = 0.04 * 0.5 * (i / 2)**2 * math.exp(-0.044 * (i / 2))\n",
        "  summation3 += term3\n",
        "\n",
        "summation += (1+0.04*0.5)*5*math.exp(-0.044 * 5)\n",
        "summation2 += (1+0.04*0.5)*math.exp(-0.044 * 5)\n",
        "summation3 += (1+0.04*0.5)*25*math.exp(-0.044 * 5)\n",
        "\n",
        "# Calculate and print the result\n",
        "result = summation/summation2\n",
        "result2 = summation3/summation2\n",
        "print(\"Duration:\", result)\n",
        "print(\"Convexity:\", result2)"
      ],
      "metadata": {
        "colab": {
          "base_uri": "https://localhost:8080/"
        },
        "id": "kRRj85SsVSKg",
        "outputId": "178cc55a-4681-48ae-daff-bed317fe62cb"
      },
      "execution_count": null,
      "outputs": [
        {
          "output_type": "stream",
          "name": "stdout",
          "text": [
            "Duration: 4.575940240469355\n",
            "Convexity: 22.124740065012457\n"
          ]
        }
      ]
    },
    {
      "cell_type": "code",
      "source": [
        "import numpy as np\n",
        "import math\n",
        "notional = 100\n",
        "years = 5\n",
        "payments_per_year = 2\n",
        "coupon_rate = 0.04\n",
        "delta_t = 1 / payments_per_year\n",
        "periods = years * payments_per_year\n",
        "\n",
        "def f_bond_price(coupon):\n",
        "  bond_price = 0\n",
        "  for period in range(1, periods + 1):\n",
        "    bond_price += notional * coupon * delta_t * (1 / np.power(1 + (coupon / payments_per_year), period))\n",
        "  bond_price += notional / np.power(1 + (coupon / payments_per_year), periods)\n",
        "  return bond_price\n",
        "\n",
        "def bond_price_derivative_approximation_simpson(coupon, h):\n",
        "  # Use f_bond_price to calculate values at coupon-h, coupon, and coupon+h\n",
        "  price_minus_h = f_bond_price(coupon - h)\n",
        "  price_center = f_bond_price(coupon)\n",
        "  price_plus_h = f_bond_price(coupon + h)\n",
        "  return (price_plus_h + 4 * price_center - price_minus_h) / (2 * h)\n",
        "\n",
        "h = 0.0001\n",
        "derivative = bond_price_derivative_approximation(coupon_rate, h)\n",
        "duration = (-1 / f_bond_price(coupon_rate)) * derivative\n",
        "print(f\"Duration: {duration}\")\n",
        "print(f\"Price: {f_bond_price(coupon_rate)}\")\n",
        "print(f\"Derivative: {derivative}\")"
      ],
      "metadata": {
        "colab": {
          "base_uri": "https://localhost:8080/"
        },
        "id": "ezkPlyOLC4o1",
        "outputId": "2e633f2f-5002-46f9-f95b-92cdb4a45bd8"
      },
      "execution_count": null,
      "outputs": [
        {
          "output_type": "stream",
          "name": "stdout",
          "text": [
            "Duration: -7.105427357601005e-13\n",
            "Price: 99.99999999999997\n",
            "Derivative: 7.105427357601002e-11\n"
          ]
        }
      ]
    },
    {
      "cell_type": "code",
      "source": [
        "# Ex 1, Q5\n",
        "import random\n",
        "\n",
        "def play_game(n, P):\n",
        "  \"\"\"\n",
        "  Simulates a game where n people pay P dollars to roll a die and receive the amount shown.\n",
        "\n",
        "  Args:\n",
        "    n: The number of people playing the game.\n",
        "    P: The amount each person pays to play.\n",
        "\n",
        "  Returns:\n",
        "    The percentage of times the host does not lose money.\n",
        "  \"\"\"\n",
        "  wins = 0\n",
        "  for _ in range(n):\n",
        "    # Simulate the roll of a die\n",
        "    roll = random.randint(1, 6)\n",
        "\n",
        "    # Calculate the host's profit or loss\n",
        "    profit = P - roll\n",
        "\n",
        "    # Update the win count if the host makes a profit\n",
        "    if profit >= 0:\n",
        "      wins += 1\n",
        "\n",
        "  # Calculate and return the percentage of wins\n",
        "  return (wins / n) * 100\n",
        "\n",
        "# Set the number of people and the amount they pay\n",
        "n = 100000\n",
        "P = 5\n",
        "\n",
        "# Run the simulation and print the results\n",
        "results = play_game(n, P)\n",
        "print(f\"Percentage of times the host does not lose money: {results:.2f}%\")"
      ],
      "metadata": {
        "colab": {
          "base_uri": "https://localhost:8080/"
        },
        "id": "k3ciQKNptoG0",
        "outputId": "9789c330-5819-47fc-f297-6080b86a48e2"
      },
      "execution_count": null,
      "outputs": [
        {
          "output_type": "stream",
          "name": "stdout",
          "text": [
            "Percentage of times the host does not lose money: 83.26%\n"
          ]
        }
      ]
    },
    {
      "cell_type": "code",
      "source": [
        "# Ex 3, Q1\n",
        "from scipy.optimize import fsolve\n",
        "\n",
        "def equation(y):\n",
        "  \"\"\"\n",
        "  Defines the equation to be solved.\n",
        "  \"\"\"\n",
        "  summation = 0\n",
        "  for i in range(1, 11):\n",
        "    # Use the value of y directly instead of calling it as a function\n",
        "    summation += 1 / (1 + y * (i / 2))\n",
        "  return 0.04 * 0.5 * summation + 1 / (1 + 5 * y) - 1\n",
        "\n",
        "# Initial guess for y\n",
        "y0 = 0.1\n",
        "\n",
        "# Solve the equation using fsolve\n",
        "solution = fsolve(equation, y0)\n",
        "\n",
        "# Print the solution\n",
        "print(\"Solution for y:\", solution[0])"
      ],
      "metadata": {
        "colab": {
          "base_uri": "https://localhost:8080/"
        },
        "id": "-ZSc8pRgFvHl",
        "outputId": "a5ffc312-92e3-4796-d978-12fa1c4fae40"
      },
      "execution_count": null,
      "outputs": [
        {
          "output_type": "stream",
          "name": "stdout",
          "text": [
            "Solution for y: 0.0436440633513424\n"
          ]
        }
      ]
    }
  ]
}