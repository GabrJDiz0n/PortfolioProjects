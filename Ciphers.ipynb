{
  "nbformat": 4,
  "nbformat_minor": 0,
  "metadata": {
    "colab": {
      "provenance": [],
      "authorship_tag": "ABX9TyNXcISU+UhNFc+lmzbeuGrS",
      "include_colab_link": true
    },
    "kernelspec": {
      "name": "python3",
      "display_name": "Python 3"
    },
    "language_info": {
      "name": "python"
    }
  },
  "cells": [
    {
      "cell_type": "markdown",
      "metadata": {
        "id": "view-in-github",
        "colab_type": "text"
      },
      "source": [
        "<a href=\"https://colab.research.google.com/github/GabrJDiz0n/PortfolioProjects/blob/main/Ciphers.ipynb\" target=\"_parent\"><img src=\"https://colab.research.google.com/assets/colab-badge.svg\" alt=\"Open In Colab\"/></a>"
      ]
    },
    {
      "cell_type": "markdown",
      "source": [
        "Caesar Cipher"
      ],
      "metadata": {
        "id": "FNtmcM6rNvNm"
      }
    },
    {
      "cell_type": "code",
      "execution_count": null,
      "metadata": {
        "colab": {
          "base_uri": "https://localhost:8080/"
        },
        "id": "XdhHFiQ6NqZ_",
        "outputId": "a9df40c8-f52e-4628-d25a-38d6a88c84dd"
      },
      "outputs": [
        {
          "output_type": "stream",
          "name": "stdout",
          "text": [
            "Plain Text: Hello World!\n",
            "Encrpyted Text: khoor zruog!\n"
          ]
        }
      ],
      "source": [
        "text = 'Hello World!'\n",
        "shift = 3\n",
        "\n",
        "def caesar(message,offset):\n",
        "  alphabet = 'abcdefghijklmnopqrstuvwxyz'\n",
        "  final_message = ''\n",
        "\n",
        "  for char in message.lower():\n",
        "    if not char.isalpha(): # Add characters not in the alphabet as is\n",
        "      final_message += char\n",
        "    else:                  # Shift letters according to offset\n",
        "      index = alphabet.find(char)\n",
        "      new_index = (index + offset) % len(alphabet)\n",
        "      final_message += alphabet[new_index]\n",
        "\n",
        "  print(f'Plain Text: {message}')\n",
        "  print(f'Encrpyted Text: {final_message}')\n",
        "\n",
        "caesar(text,shift)"
      ]
    },
    {
      "cell_type": "markdown",
      "source": [
        "Vigenere Cipher"
      ],
      "metadata": {
        "id": "Y6ePvdCBNvyE"
      }
    },
    {
      "cell_type": "code",
      "source": [
        "text = 'mrttaqrhknsw ih puggrur!'\n",
        "custom_key = 'happycoding'\n",
        "\n",
        "def vigenere(message,key,direction=1):\n",
        "  key_index = 0\n",
        "  alphabet = 'abcdefghijklmnopqrstuvwxyz'\n",
        "  final_message = ''\n",
        "\n",
        "  for char in message.lower():\n",
        "    # Add characters not in the alphabet as is\n",
        "    if not char.isalpha():\n",
        "      final_message += char\n",
        "    # Find the right key character to encode/decode\n",
        "    else:\n",
        "      key_char = key[key_index % len(key)]\n",
        "      key_index += 1\n",
        "\n",
        "      # Define offset\n",
        "      offset = alphabet.index(key_char)\n",
        "      index = alphabet.find(char)\n",
        "      new_index = (index + offset*direction) % len(alphabet)\n",
        "      final_message += alphabet[new_index]\n",
        "\n",
        "  return final_message\n",
        "\n",
        "def encrypt(message, key):\n",
        "  return vigenere(text,key)\n",
        "\n",
        "def decrypt(message, key):\n",
        "  return vigenere(text,key, -1)\n",
        "\n",
        "decryption = decrypt(text,custom_key)\n",
        "\n",
        "print(f'Encrypted Text: {text}')\n",
        "print(f'Key: {custom_key}')\n",
        "print(f'Decrypted Text: {decryption}')"
      ],
      "metadata": {
        "colab": {
          "base_uri": "https://localhost:8080/"
        },
        "id": "9vRN0XJbNwJh",
        "outputId": "7ee1ca11-57e1-476d-ef9e-cacd2d1b0f60"
      },
      "execution_count": null,
      "outputs": [
        {
          "output_type": "stream",
          "name": "stdout",
          "text": [
            "Encrypted Text: mrttaqrhknsw ih puggrur!\n",
            "Key: happycoding\n",
            "Decrypted Text: freecodecamp is awesome!\n"
          ]
        }
      ]
    }
  ]
}