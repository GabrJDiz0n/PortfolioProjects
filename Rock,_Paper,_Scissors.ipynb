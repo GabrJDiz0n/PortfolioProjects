{
  "nbformat": 4,
  "nbformat_minor": 0,
  "metadata": {
    "colab": {
      "provenance": [],
      "authorship_tag": "ABX9TyN92BjKOPUxQME5ZrjkPg5W",
      "include_colab_link": true
    },
    "kernelspec": {
      "name": "python3",
      "display_name": "Python 3"
    },
    "language_info": {
      "name": "python"
    }
  },
  "cells": [
    {
      "cell_type": "markdown",
      "metadata": {
        "id": "view-in-github",
        "colab_type": "text"
      },
      "source": [
        "<a href=\"https://colab.research.google.com/github/GabrJDiz0n/PortfolioProjects/blob/main/Rock%2C_Paper%2C_Scissors.ipynb\" target=\"_parent\"><img src=\"https://colab.research.google.com/assets/colab-badge.svg\" alt=\"Open In Colab\"/></a>"
      ]
    },
    {
      "cell_type": "code",
      "execution_count": null,
      "metadata": {
        "id": "wdakq3WTdiyM",
        "outputId": "cce02dca-2667-4b14-f5b5-0a9afd7a83bd",
        "colab": {
          "base_uri": "https://localhost:8080/"
        }
      },
      "outputs": [
        {
          "output_type": "stream",
          "name": "stdout",
          "text": [
            "Error: You must type Rock, Paper, or Scissors.\n"
          ]
        }
      ],
      "source": [
        "import random\n",
        "import sys\n",
        "\n",
        "move_opt = ['Rock', 'Paper', 'Scissors']\n",
        "\n",
        "def pick_random_move(list):\n",
        "  return random.choice(list)\n",
        "\n",
        "def get_result(move):\n",
        "  counter = random.choice(move_opt)\n",
        "  if move == counter:\n",
        "    print(\"Opponent selected {}. Draw!\".format(counter))\n",
        "  elif move == \"Rock\" and counter == \"Scissors\":\n",
        "    print(\"Opponent selected Scissors. You win!\")\n",
        "  elif move == \"Rock\" and counter == \"Paper\":\n",
        "    print(\"Opponent selected Paper. You lose!\")\n",
        "  elif move == \"Scissors\" and counter == \"Paper\":\n",
        "    print(\"Opponent selected Paper. You win!\")\n",
        "  elif move == \"Scissors\" and counter == \"Rock\":\n",
        "    print(\"Opponent selected Rock. You lose!\")\n",
        "  elif move == \"Paper\" and counter == \"Rock\":\n",
        "    print(\"Opponent selected Rock. You win!\")\n",
        "  elif move == \"Paper\" and counter == \"Scissors\":\n",
        "    print(\"Opponent selected Scissors. You lose!\")\n",
        "\n",
        "if sys.argv[1] in move_opt:\n",
        "    # Retrieve the command line argument\n",
        "    chosen_move = sys.argv[1]\n",
        "    # Create a code name and print it to the screen\n",
        "    result = get_result(sys.argv[1])\n",
        "else:\n",
        "  print('Error: You must type Rock, Paper, or Scissors.')"
      ]
    }
  ]
}